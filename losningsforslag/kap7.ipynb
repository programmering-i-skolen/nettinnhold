{
 "cells": [
  {
   "cell_type": "markdown",
   "metadata": {},
   "source": [
    "# 7. Data og statistikk"
   ]
  },
  {
   "cell_type": "markdown",
   "metadata": {},
   "source": [
    "## Lese inn data\n",
    "_Kommer_"
   ]
  },
  {
   "cell_type": "markdown",
   "metadata": {},
   "source": [
    "## Gjennomsnitt, median, typetall og standardavvik\n",
    "_Kommer_"
   ]
  },
  {
   "cell_type": "markdown",
   "metadata": {},
   "source": [
    "## Logiske operasjoner på arrayer\n",
    "_Kommer_"
   ]
  },
  {
   "cell_type": "markdown",
   "metadata": {},
   "source": [
    "## Tilfeldige tall\n",
    "\n",
    "### Oppgave 12"
   ]
  },
  {
   "cell_type": "code",
   "execution_count": 6,
   "metadata": {},
   "outputs": [],
   "source": [
    "from numpy.random import randint\n",
    "\n",
    "def terningkast(N):\n",
    "    return randint(1, N+1)    "
   ]
  },
  {
   "cell_type": "markdown",
   "metadata": {},
   "source": [
    "### Oppgave 13"
   ]
  },
  {
   "cell_type": "code",
   "execution_count": 7,
   "metadata": {},
   "outputs": [
    {
     "name": "stdout",
     "output_type": "stream",
     "text": [
      "44\n",
      "359\n"
     ]
    }
   ],
   "source": [
    "from numpy.random import randint\n",
    "\n",
    "# Ti tilfeldige tall:\n",
    "summen = 0\n",
    "for i in range(10):\n",
    "    summen += randint(1, 7)\n",
    "snitt = summen/10\n",
    "print(summen)\n",
    "\n",
    "# Hundre tilfeldige tall:\n",
    "summen = 0\n",
    "for i in range(100):\n",
    "    summen += randint(1, 7)\n",
    "snitt = summen/100\n",
    "print(summen)"
   ]
  },
  {
   "cell_type": "markdown",
   "metadata": {},
   "source": [
    "## Statistiske simuleringer\n",
    "\n",
    "### Oppgave 14"
   ]
  },
  {
   "cell_type": "code",
   "execution_count": 8,
   "metadata": {},
   "outputs": [
    {
     "name": "stdout",
     "output_type": "stream",
     "text": [
      "0.1\n",
      "0.23\n",
      "0.167\n",
      "0.1692\n"
     ]
    }
   ],
   "source": [
    "def rel_frekvens(kast):\n",
    "    ant_seks = 0\n",
    "    for i in range(kast):\n",
    "        tall = randint(1, 7)\n",
    "        if tall == 6:\n",
    "            ant_seks += 1\n",
    "    return ant_seks/kast\n",
    "\n",
    "print(rel_frekvens(10))\n",
    "print(rel_frekvens(100))\n",
    "print(rel_frekvens(1000))\n",
    "print(rel_frekvens(10000))"
   ]
  },
  {
   "cell_type": "markdown",
   "metadata": {},
   "source": [
    "### Oppgave 15"
   ]
  },
  {
   "cell_type": "code",
   "execution_count": 30,
   "metadata": {},
   "outputs": [
    {
     "name": "stdout",
     "output_type": "stream",
     "text": [
      "Det mest sannsynlige antallet kast vi trenger er 36.8529\n"
     ]
    },
    {
     "data": {
      "image/png": "[encoded data removed]",
      "text/plain": [
       "<Figure size 432x288 with 1 Axes>"
      ]
     },
     "metadata": {
      "needs_background": "light"
     },
     "output_type": "display_data"
    }
   ],
   "source": [
    "import numpy as np\n",
    "# spill_stigespill-funksjonen fra kapittel 7.7\n",
    "stiger = [\n",
    "    (1, 40), (8, 10), (24, 5),\n",
    "    (33, 3), (36, 52), (42, 30),\n",
    "    (43, 62), (49, 79), (56, 37),\n",
    "    (64, 27), (65, 82), (68, 85),\n",
    "    (74, 12), (87, 70)]\n",
    "\n",
    "def spill_stigespill(): \n",
    "    posisjon = 0\n",
    "    antall_kast = 0 \n",
    "    while posisjon < 90:\n",
    "        terningkast = np.random.randint(1, 7) \n",
    "        antall_kast += 1\n",
    "        posisjon += terningkast\n",
    "        for stige in stiger:\n",
    "           if stige[0] == posisjon:\n",
    "              posisjon = stige[1]\n",
    "              break;\n",
    "    return antall_kast\n",
    "\n",
    "N = 10000\n",
    "sum_kast = 0\n",
    "spill_over_hundre = 0\n",
    "antall_kast_alle = []\n",
    "for i in range(N):\n",
    "    antall_kast = spill_stigespill()\n",
    "    sum_kast += antall_kast\n",
    "    antall_kast_alle.append(antall_kast)\n",
    "    if antall_kast > 100:\n",
    "        spill_over_hundre += 1\n",
    "\n",
    "snitt_kast = sum_kast/N\n",
    "\n",
    "# (a)\n",
    "import matplotlib.pyplot as plt\n",
    "plt.hist(antall_kast_alle, bins=np.arange(100))\n",
    "plt.title(\"Fordeling av antall kast i stigespill\")\n",
    "print(\"Det mest sannsynlige antallet kast vi trenger er\", snitt_kast)"
   ]
  },
  {
   "cell_type": "markdown",
   "metadata": {},
   "source": [
    "Vi ser av histogrammet at det vanligste antallet kast er omtrent 20. \n",
    "\n",
    "**b)**"
   ]
  },
  {
   "cell_type": "code",
   "execution_count": 31,
   "metadata": {},
   "outputs": [
    {
     "name": "stdout",
     "output_type": "stream",
     "text": [
      "Gjennomsnittlig antall kast er 36.8529\n"
     ]
    }
   ],
   "source": [
    "print(\"Gjennomsnittlig antall kast er\", snitt_kast)"
   ]
  },
  {
   "cell_type": "markdown",
   "metadata": {},
   "source": [
    "**c)**"
   ]
  },
  {
   "cell_type": "code",
   "execution_count": 32,
   "metadata": {},
   "outputs": [
    {
     "name": "stdout",
     "output_type": "stream",
     "text": [
      "Halvparten av stigespill spilles på under 36.8529 kast\n"
     ]
    }
   ],
   "source": [
    "print(\"Halvparten av stigespill spilles på under\", snitt_kast, \"kast\")"
   ]
  },
  {
   "cell_type": "markdown",
   "metadata": {},
   "source": [
    "**d)**"
   ]
  },
  {
   "cell_type": "code",
   "execution_count": 34,
   "metadata": {},
   "outputs": [
    {
     "name": "stdout",
     "output_type": "stream",
     "text": [
      "273 av 10000 stigespill krever mer enn 100 kast.\n"
     ]
    }
   ],
   "source": [
    "print(spill_over_hundre, \"av\", N, \"stigespill krever mer enn 100 kast.\")"
   ]
  },
  {
   "cell_type": "code",
   "execution_count": null,
   "metadata": {},
   "outputs": [],
   "source": []
  }
 ],
 "metadata": {
  "kernelspec": {
   "display_name": "Python 3",
   "language": "python",
   "name": "python3"
  },
  "language_info": {
   "codemirror_mode": {
    "name": "ipython",
    "version": 3
   },
   "file_extension": ".py",
   "mimetype": "text/x-python",
   "name": "python",
   "nbconvert_exporter": "python",
   "pygments_lexer": "ipython3",
   "version": "3.8.2"
  }
 },
 "nbformat": 4,
 "nbformat_minor": 4
}
