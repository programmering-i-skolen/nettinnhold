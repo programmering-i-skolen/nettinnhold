{
 "cells": [
  {
   "cell_type": "markdown",
   "metadata": {},
   "source": [
    "# Kapittel 7: Data og statistikk"
   ]
  },
  {
   "cell_type": "markdown",
   "metadata": {},
   "source": [
    "### 7.9.1 – Løsningsforslag til oppgaver om å lese inn data"
   ]
  },
  {
   "cell_type": "markdown",
   "metadata": {},
   "source": [
    "### 7.9.2 – Løsningsforslag til oppgaver om gjennomsnitt, median, typetall og standardavvik"
   ]
  },
  {
   "cell_type": "markdown",
   "metadata": {},
   "source": [
    "### 7.9.3 – Løsningsforslag til oppgaver om logiske operasjoner på arrayer"
   ]
  },
  {
   "cell_type": "markdown",
   "metadata": {},
   "source": [
    "### 7.9.4 – Løsningsforslag til oppgaver om tilfeldige tall"
   ]
  },
  {
   "cell_type": "code",
   "execution_count": null,
   "metadata": {},
   "outputs": [],
   "source": [
    "# Oppgave 12\n",
    "\n",
    "from pylab import *\n",
    "\n",
    "def terningkast(N):\n",
    "    return randint(1, N)    "
   ]
  },
  {
   "cell_type": "code",
   "execution_count": null,
   "metadata": {},
   "outputs": [],
   "source": [
    "# Oppgave 13\n",
    "\n",
    "from pylab import *\n",
    "\n",
    "# Ti tilfeldige tall:\n",
    "summen = 0\n",
    "for i in range(10):\n",
    "    summen += randint(1, 6)\n",
    "snitt = summen/10\n",
    "print(summen)\n",
    "\n",
    "# Hundre tilfeldige tall:\n",
    "summen = 0\n",
    "for i in range(100):\n",
    "    summen += randint(1, 6)\n",
    "snitt = summen/100\n",
    "print(summen)"
   ]
  },
  {
   "cell_type": "markdown",
   "metadata": {},
   "source": [
    "### 7.9.1 – Løsningsforslag til oppgaver om statistiske simuleringer"
   ]
  },
  {
   "cell_type": "code",
   "execution_count": null,
   "metadata": {},
   "outputs": [],
   "source": [
    "# Oppgave 14\n",
    "\n",
    "def rel_frekvens(kast):\n",
    "    ant_seks = 0\n",
    "    for i in range(kast):\n",
    "        tall = randint(1, 6)\n",
    "        if tall == 6:\n",
    "            ant_seks += 1\n",
    "    return ant_seks/kast\n",
    "\n",
    "print(rel_frekvens(10))\n",
    "print(rel_frekvens(100))\n",
    "print(rel_frekvens(1000))\n",
    "print(rel_frekvens(10000))"
   ]
  },
  {
   "cell_type": "code",
   "execution_count": null,
   "metadata": {},
   "outputs": [],
   "source": [
    "# Oppgave 15\n",
    "\n",
    "\"\"\"\n",
    "Denne løsningen forutsetter at du har stigespill-programmet fra kapittel 7.7 på en egen fil som heter stigespill.py\n",
    "\"\"\"\n",
    "\n",
    "from stigespill import spill_stigespill\n",
    "\n",
    "N = 1000\n",
    "sum_kast = 0\n",
    "spill_over_hundre = 0\n",
    "for i in range(N):\n",
    "    kast = spill_stigespill()\n",
    "    sum_kast += kast\n",
    "    if kast > 100:\n",
    "        spill_over_hundre += 1\n",
    "\n",
    "snitt_kast = sum_kast/N\n",
    "\n",
    "# (a)\n",
    "\n",
    "print(\"Det mest sannsynlige antallet kast vi trenger er\", snitt_kast)\n",
    "\n",
    "# (b)\n",
    "\n",
    "print(\"Gjennomsnittlig antall kast er\", snitt_kast)\n",
    "\n",
    "# (c)\n",
    "\n",
    "print(\"Halvparten av stigespill spilles på under\", snitt_kast, \"kast\")\n",
    "\n",
    "# (d)\n",
    "\n",
    "print(spill_over_hundre, \"av\", N, \"stigespill, krever mer enn 100 kast.\")"
   ]
  }
 ],
 "metadata": {
  "kernelspec": {
   "display_name": "Python 3",
   "language": "python",
   "name": "python3"
  },
  "language_info": {
   "codemirror_mode": {
    "name": "ipython",
    "version": 3
   },
   "file_extension": ".py",
   "mimetype": "text/x-python",
   "name": "python",
   "nbconvert_exporter": "python",
   "pygments_lexer": "ipython3",
   "version": "3.8.2"
  }
 },
 "nbformat": 4,
 "nbformat_minor": 4
}
