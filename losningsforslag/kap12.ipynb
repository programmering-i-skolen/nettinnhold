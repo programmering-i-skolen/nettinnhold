{
 "cells": [
  {
   "cell_type": "markdown",
   "metadata": {},
   "source": [
    "# Kapittel 12\n",
    "\n",
    "### 12.6.1\n",
    "\n",
    "I numerisk derivasjon tilnærmer vi grenseverdien med en liten verdi $\\Delta x$. Vi tilnærmer altså følgende uttrykk:\n",
    "\n",
    "$$ f'(x) = lim_{\\Delta x \\rightarrow 0} \\frac{f(x+\\Delta x) - f(x)}{\\Delta x} $$\n",
    "\n",
    "med\n",
    "\n",
    "$$ f'(x) \\approx \\frac{f(x+\\Delta x) - f(x)}{\\Delta x} $$\n",
    "\n",
    "der $\\Delta x$ er et lite tall.\n",
    "\n",
    "### 12.6.2\n",
    "\n",
    "Ved en for stor $\\Delta x$ er tilnærmingen til den deriverte ikke god nok, i og med at $\\Delta x$ bør være så nær 0 som mulig. Men en for liten $\\Delta x$ gir avrundingsfeil i datamaskinen, og vi må derfor velge en nokså, men ikke altfor, liten $\\Delta x$ (ofte rundt $10^{-8}$).\n",
    "\n",
    "### 12.6.3\n",
    "\n",
    "Feilen oppstår på grunn av det vi har drøftet i oppgave 12.6.2."
   ]
  },
  {
   "cell_type": "code",
   "execution_count": 8,
   "metadata": {},
   "outputs": [
    {
     "name": "stdout",
     "output_type": "stream",
     "text": [
      "Relativ feil: 6.07747097092215e-07 prosent.\n"
     ]
    }
   ],
   "source": [
    "def f(x):\n",
    "    return x**2\n",
    "\n",
    "def f_der(x):\n",
    "    return 2*x\n",
    "\n",
    "def deriver(f,x,dx=1E-8):\n",
    "    dy = f(x+dx) - f(x)\n",
    "    return dy/dx\n",
    "\n",
    "x = 1\n",
    "analytisk = f_der(x)\n",
    "numerisk = deriver(f,x)\n",
    "relativ_feil = abs(analytisk-numerisk)/analytisk * 100\n",
    "\n",
    "print(\"Relativ feil:\", relativ_feil, \"prosent.\")"
   ]
  },
  {
   "cell_type": "markdown",
   "metadata": {},
   "source": [
    "### 12.6.4"
   ]
  },
  {
   "cell_type": "code",
   "execution_count": null,
   "metadata": {},
   "outputs": [],
   "source": [
    "from pylab import *\n",
    "\n",
    "# Leser av fila\n",
    "data = loadtxt('Datafiler/heistur.csv', delimiter = ',', skiprows = 1)\n",
    "t = data[:,0]\n",
    "h = data[:,2]\n",
    "\n",
    "# Derivasjonsvariabler\n",
    "n = len(t)\n",
    "v = zeros(n)\n",
    "a = zeros(n)\n",
    "v[0] = 0\n",
    "\n",
    "# Derivasjonsløkke\n",
    "for i in range(0, n-1):\n",
    "    v[i+1] = (h[i+1] - h[i])/(t[i+1] - t[i])\n",
    "    \n",
    "plot(t, v, color = 'red')\n",
    "title('Heistur')\n",
    "xlabel('Tid (s)')\n",
    "ylabel('Hastighet (m/s)')\n",
    "grid()\n",
    "show()"
   ]
  },
  {
   "cell_type": "markdown",
   "metadata": {},
   "source": [
    "### 12.6.5"
   ]
  },
  {
   "cell_type": "markdown",
   "metadata": {},
   "source": [
    "Når vi deriverer et bilde, regner vi ut forskjellen i lysverdi til røde, grønne og blå piksler som er nær hverandre.Dersom forskjellen er stor, får vi en høy verdi, som resulterer i en lys piksel dersom vi plotter den deriverte. Områder med høy kontrast mellom pikslene/stor variasjon i lysverdi, vil da framheves på det deriverte bildet. \n",
    "\n",
    "Det at en kan finne forskjellen i to nærliggende verdier er en praktisk anvendelse av derivasjon som kan underbygge derivasjon som endring/forskjeller istedenfor fokus på derivasjonsregler.\n",
    "\n",
    "### 12.6.6\n",
    "Vi deriverer kun bestemte verdier på en datamaskin. Datamaskinen finner ikke generelle, kontinuerlige uttrykk fordi den i bunnen opererer med konkrete tallverdier. Derfor må vi velge ut konkrete tallverdier som datamaskinen kan jobbe med. Når vi deriverer analytisk, gjør vi symbolske utregninger som gir et nytt uttrykk, ikke bare konkrete verdier av dette uttrykket.\n",
    "\n",
    "### 12.6.7 \n",
    "Se boka. Her er poenget å tegne en graf og forklare hvordan bestemt integrasjon og arealet under en graf henger sammen med hverandre, og hvordan dette kan tilnærmes med rektangler.\n",
    "\n",
    "### 12.6.8\n",
    "Se boka.\n",
    "\n",
    "### 12.6.9"
   ]
  },
  {
   "cell_type": "code",
   "execution_count": 10,
   "metadata": {},
   "outputs": [
    {
     "name": "stdout",
     "output_type": "stream",
     "text": [
      "Numerisk verdi: 156.26562500000003\n",
      "Analytisk verdi: 156.0\n",
      "Absolutt feil er: 0.2656250000000284\n"
     ]
    }
   ],
   "source": [
    "def f(x):               #Definerer en funksjon som vi skal integrere.\n",
    "    return x**3\n",
    "    \n",
    "def f_analytisk(x):     #Definerer analytisk verdi for sammenligning.\n",
    "    return (1/4)*x**4\n",
    "\n",
    "def trapesmetoden(f, a, b, n):\n",
    "    h = (b-a)/n\n",
    "    total = (f(a) + f(b))/2.0\n",
    "    for k in range(1, n):\n",
    "        total += f(a + k*h)\n",
    "    return h*total\n",
    "    \n",
    "numerisk = trapesmetoden(f, 0, 5, 100)\n",
    "analytisk = f_analytisk(5)-f_analytisk(1)\n",
    "absolutt_feil = abs(analytisk-numerisk)\n",
    "\n",
    "print(\"Numerisk verdi:\", numerisk)\n",
    "print(\"Analytisk verdi:\", analytisk)\n",
    "print(\"Absolutt feil er:\", absolutt_feil)"
   ]
  },
  {
   "cell_type": "markdown",
   "metadata": {},
   "source": [
    "Feilen oppstår spesielt fordi deler av trapesene havner utenfor grafen.\n",
    "\n",
    "### 12.6.10\n",
    "Eksperimenter med programmet i 12.6.9 ved å bytte ut n, f og integrasjonsmetoden. Skriv gjerne ut tabeller som sammenlikner, for eksempel slik:"
   ]
  },
  {
   "cell_type": "code",
   "execution_count": 23,
   "metadata": {},
   "outputs": [
    {
     "name": "stdout",
     "output_type": "stream",
     "text": [
      "For n = 1\n",
      "----------------------\n",
      "Analytisk verdi: 180.0\n",
      "Numerisk verdi for rektangelmetoden: 0.0\n",
      "Numerisk verdi for trapesmetoden: 337.5\n",
      "Absolutt feil for rektangelmetoden er: 180.0\n",
      "Absolutt feil for trapesmetoden er: 157.5\n",
      "----------------------\n",
      "For n = 10\n",
      "----------------------\n",
      "Analytisk verdi: 180.0\n",
      "Numerisk verdi for rektangelmetoden: 149.0625\n",
      "Numerisk verdi for trapesmetoden: 182.8125\n",
      "Absolutt feil for rektangelmetoden er: 30.9375\n",
      "Absolutt feil for trapesmetoden er: 2.8125\n",
      "----------------------\n",
      "For n = 100\n",
      "----------------------\n",
      "Analytisk verdi: 180.0\n",
      "Numerisk verdi for rektangelmetoden: 177.89062500000003\n",
      "Numerisk verdi for trapesmetoden: 181.26562500000003\n",
      "Absolutt feil for rektangelmetoden er: 2.1093749999999716\n",
      "Absolutt feil for trapesmetoden er: 1.2656250000000284\n",
      "----------------------\n",
      "For n = 1000\n",
      "----------------------\n",
      "Analytisk verdi: 180.0\n",
      "Numerisk verdi for rektangelmetoden: 180.9126562499999\n",
      "Numerisk verdi for trapesmetoden: 181.25015625000003\n",
      "Absolutt feil for rektangelmetoden er: 0.9126562499999125\n",
      "Absolutt feil for trapesmetoden er: 1.2501562500000318\n",
      "----------------------\n",
      "For n = 10000\n",
      "----------------------\n",
      "Analytisk verdi: 180.0\n",
      "Numerisk verdi for rektangelmetoden: 181.21625156249956\n",
      "Numerisk verdi for trapesmetoden: 181.25000156249973\n",
      "Absolutt feil for rektangelmetoden er: 1.216251562499565\n",
      "Absolutt feil for trapesmetoden er: 1.2500015624997332\n",
      "----------------------\n",
      "For n = 100000\n",
      "----------------------\n",
      "Analytisk verdi: 180.0\n",
      "Numerisk verdi for rektangelmetoden: 181.2466250156244\n",
      "Numerisk verdi for trapesmetoden: 181.25000001562532\n",
      "Absolutt feil for rektangelmetoden er: 1.246625015624403\n",
      "Absolutt feil for trapesmetoden er: 1.250000015625318\n",
      "----------------------\n"
     ]
    }
   ],
   "source": [
    "def f(x):               #Definerer en funksjon som vi skal integrere.\n",
    "    return x**3 + 2*x\n",
    "    \n",
    "def f_analytisk(x):     #Definerer analytisk verdi for sammenligning.\n",
    "    return (1/4)*x**4 + x**2\n",
    "\n",
    "def trapesmetoden(f, a, b, n):\n",
    "    h = (b-a)/n\n",
    "    total = (f(a) + f(b))/2.0\n",
    "    for k in range(1, n):\n",
    "        total += f(a + k*h)\n",
    "    return h*total\n",
    "\n",
    "def rektangelmetoden(f, a, b, n):\n",
    "    Areal = 0.0\n",
    "    bredde = (b-a)/n\n",
    "    for k in range (0, n):\n",
    "        Areal = Areal + f(a + (k*bredde))*bredde\n",
    "    return Areal\n",
    "\n",
    "analytisk = f_analytisk(5)-f_analytisk(1)\n",
    "\n",
    "for n in [1, 10,100,1000,10000,100000]:\n",
    "    trapes = trapesmetoden(f, 0, 5, n)\n",
    "    rektangel = rektangelmetoden(f, 0, 5, n)\n",
    "    absolutt_feil_trap = abs(analytisk-trapes)\n",
    "    absolutt_feil_rekt = abs(analytisk-rektangel)\n",
    "    \n",
    "    print(\"For n =\",n)\n",
    "    print(\"----------------------\")\n",
    "    print(\"Analytisk verdi:\", analytisk)\n",
    "    \n",
    "    print(\"Numerisk verdi for rektangelmetoden:\", rektangel)\n",
    "    print(\"Numerisk verdi for trapesmetoden:\", trapes)\n",
    "   \n",
    "    print(\"Absolutt feil for rektangelmetoden er:\", absolutt_feil_rekt)\n",
    "    print(\"Absolutt feil for trapesmetoden er:\", absolutt_feil_trap)\n",
    "    print(\"----------------------\")\n",
    "\n",
    "    \n"
   ]
  },
  {
   "cell_type": "code",
   "execution_count": null,
   "metadata": {},
   "outputs": [],
   "source": []
  }
 ],
 "metadata": {
  "kernelspec": {
   "display_name": "Python 3",
   "language": "python",
   "name": "python3"
  },
  "language_info": {
   "codemirror_mode": {
    "name": "ipython",
    "version": 3
   },
   "file_extension": ".py",
   "mimetype": "text/x-python",
   "name": "python",
   "nbconvert_exporter": "python",
   "pygments_lexer": "ipython3",
   "version": "3.7.5"
  }
 },
 "nbformat": 4,
 "nbformat_minor": 2
}
