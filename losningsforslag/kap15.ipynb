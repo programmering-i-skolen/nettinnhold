{
 "cells": [
  {
   "cell_type": "markdown",
   "metadata": {},
   "source": [
    "## Kapittel 15: Objektorientert programmering \n",
    "### 15.5.1"
   ]
  },
  {
   "cell_type": "code",
   "execution_count": 7,
   "metadata": {},
   "outputs": [
    {
     "name": "stdout",
     "output_type": "stream",
     "text": [
      "19.6\n"
     ]
    }
   ],
   "source": [
    "class Fall:\n",
    "    def __init__(self, m, g):\n",
    "        self.m = m\n",
    "        self.g = g\n",
    "        \n",
    "    def akselerasjon(self):\n",
    "        a = self.g\n",
    "        return a\n",
    "    \n",
    "    def kraft(self):\n",
    "        F = self.m * self.g\n",
    "        return F\n",
    "    \n",
    "# Eksempel på bruk av klassen for en ball med masse 2.0 kg\n",
    "ball = Fall(2.0,9.8)\n",
    "print(ball.kraft())"
   ]
  },
  {
   "cell_type": "markdown",
   "metadata": {},
   "source": [
    "### 15.5.2"
   ]
  },
  {
   "cell_type": "code",
   "execution_count": 39,
   "metadata": {},
   "outputs": [
    {
     "name": "stdout",
     "output_type": "stream",
     "text": [
      "Symbol: H | atomnummer: 1 | masse: 1.008 | elektronegativitet: 2.1\n",
      "Perioden til karbon er: 2\n"
     ]
    }
   ],
   "source": [
    "class Grunnstoff:\n",
    "    def __init__(self,a_num,sym,masse,el_neg): \n",
    "        # atomnummer\n",
    "        self.a_num = a_num \n",
    "        # symbol\n",
    "        self.sym = sym\n",
    "        # masse i g/mol\n",
    "        self.masse = masse\n",
    "        # elektronegativitet\n",
    "        self.el_neg = el_neg\n",
    "        \n",
    "    def hent_informasjon(self):\n",
    "        print(\"Symbol:\", self.sym, \"| atomnummer:\", self.a_num, \n",
    "              \"| masse:\", self.masse,\"| elektronegativitet:\", self.el_neg)\n",
    "        \n",
    "    def periode(self):\n",
    "        if self.a_num <= 2:\n",
    "            periode = 1\n",
    "        elif self.a_num <= 10:\n",
    "            periode = 2\n",
    "        elif self.a_num <= 18:\n",
    "            periode = 3\n",
    "        elif self.a_num <= 36:\n",
    "            periode = 4\n",
    "        elif self.a_num <= 54:\n",
    "            periode = 5\n",
    "        elif self.a_num <= 86:\n",
    "            periode = 6\n",
    "        elif self.a_num <= 118:\n",
    "            periode = 7\n",
    "        return periode\n",
    "    \n",
    "# Eksempel på bruk\n",
    "hydrogen = Grunnstoff(1,'H',1.008, 2.1)\n",
    "karbon = Grunnstoff(6, 'C', 12.0, 2.5)\n",
    "\n",
    "hydrogen.hent_informasjon()\n",
    "print(\"Perioden til karbon er:\", karbon.periode())"
   ]
  },
  {
   "cell_type": "markdown",
   "metadata": {},
   "source": [
    "### 15.5.3\n",
    "\n",
    "Programmet nedenfor er en enkel løsning. Du kan eventuelt legge inn sortering etter atomnummer i periodesystemet, og du kan systematisere ved hjelp av dictionaries med atomnummer som nøkler. Dessuten kan det være fint med litt feilhåndtering slik at brukeren får en feilmedling dersom grunnstoffet ikke finnes i periodesystemet."
   ]
  },
  {
   "cell_type": "code",
   "execution_count": 42,
   "metadata": {},
   "outputs": [
    {
     "name": "stdout",
     "output_type": "stream",
     "text": [
      "Symbol: H | atomnummer: 1 | masse: 1.008 | elektronegativitet: 2.1\n"
     ]
    }
   ],
   "source": [
    "class Periodesystem:\n",
    "    def __init__(self):\n",
    "        self.grunnstoffer = []\n",
    "    def legg_til_grunnstoff(self, objekt):\n",
    "        self.grunnstoffer.append(objekt)\n",
    "    def hent_grunnstoff(self, grunnstoff):\n",
    "        for stoff in self.grunnstoffer:\n",
    "            if stoff == grunnstoff:\n",
    "                return stoff\n",
    "    \n",
    "periodesystemet = Periodesystem()             # Lager et periodesystem\n",
    "periodesystemet.legg_til_grunnstoff(hydrogen) # Legger til et grunnstoff i periodesystemet\n",
    "periodesystemet.legg_til_grunnstoff(karbon)\n",
    "H = periodesystemet.hent_grunnstoff(hydrogen) # Henter grunnstoffet igjen\n",
    "H.hent_informasjon()                          # Skriver ut informasjon om grunnstoffet"
   ]
  },
  {
   "cell_type": "markdown",
   "metadata": {},
   "source": [
    "### 15.5.7\n",
    "a)"
   ]
  },
  {
   "cell_type": "code",
   "execution_count": 47,
   "metadata": {},
   "outputs": [
    {
     "name": "stdout",
     "output_type": "stream",
     "text": [
      "9.81\n"
     ]
    }
   ],
   "source": [
    "class Ball:\n",
    "    def __init__(self,m):\n",
    "        self.g = 9.81\n",
    "        self.m = m\n",
    "    def akselerasjon(self):\n",
    "        return self.g\n",
    "    \n",
    "ball = Ball(2)\n",
    "print(ball.akselerasjon())"
   ]
  },
  {
   "cell_type": "markdown",
   "metadata": {},
   "source": [
    "Vi ser at akselerasjonen er uavhengig av massen, så dette programmet stemmer. La oss utvide det:\n",
    "\n",
    "b), c), d)\n"
   ]
  },
  {
   "cell_type": "code",
   "execution_count": 58,
   "metadata": {},
   "outputs": [
    {
     "data": {
      "image/png": "[encoded data removed]",
      "text/plain": [
       "<Figure size 432x288 with 1 Axes>"
      ]
     },
     "metadata": {
      "needs_background": "light"
     },
     "output_type": "display_data"
    }
   ],
   "source": [
    "import matplotlib.pyplot as plt\n",
    "import numpy as np\n",
    "\n",
    "class Ball:\n",
    "    def __init__(self,m):\n",
    "        self.g = -9.81\n",
    "        self.m = m\n",
    "        \n",
    "    def akselerasjon(self):\n",
    "        self.a = self.g\n",
    "        return self.a\n",
    "    \n",
    "    def sett_initalbetingelse(self,x,v):\n",
    "        self.x = x\n",
    "        self.v = v\n",
    "        \n",
    "    def integrer(self, T, dt):\n",
    "        N = int(T/dt)+1\n",
    "        self.t = np.zeros(N)\n",
    "        self.s = np.zeros(N)\n",
    "        v = np.zeros(N)\n",
    "        self.s[0] = self.x\n",
    "        v[0] = self.v\n",
    "        for i in range(N-1):\n",
    "            v[i+1] = v[i] + self.a*dt\n",
    "            self.s[i+1] = self.s[i] + v[i]*dt + 0.5*self.a*dt**2\n",
    "            self.t[i+1] = self.t[i] + dt\n",
    "        return self.t, self.s\n",
    "    \n",
    "    def plott_posisjon(self):\n",
    "        plt.plot(self.t,self.s)\n",
    "        plt.show()\n",
    "    \n",
    "ball = Ball(2)\n",
    "ball.sett_initalbetingelse(1,2)\n",
    "ball.akselerasjon()\n",
    "ball.integrer(10,1E-5)\n",
    "ball.plott_posisjon()"
   ]
  },
  {
   "cell_type": "code",
   "execution_count": null,
   "metadata": {},
   "outputs": [],
   "source": []
  },
  {
   "cell_type": "code",
   "execution_count": null,
   "metadata": {},
   "outputs": [],
   "source": []
  }
 ],
 "metadata": {
  "kernelspec": {
   "display_name": "Python 3",
   "language": "python",
   "name": "python3"
  },
  "language_info": {
   "codemirror_mode": {
    "name": "ipython",
    "version": 3
   },
   "file_extension": ".py",
   "mimetype": "text/x-python",
   "name": "python",
   "nbconvert_exporter": "python",
   "pygments_lexer": "ipython3",
   "version": "3.8.2"
  }
 },
 "nbformat": 4,
 "nbformat_minor": 4
}
