{
 "cells": [
  {
   "cell_type": "markdown",
   "metadata": {},
   "source": [
    "# Kapittel 4: Datastrukturer"
   ]
  },
  {
   "cell_type": "markdown",
   "metadata": {},
   "source": [
    "### 4.4.1 – Oppgaver om arrayer"
   ]
  },
  {
   "cell_type": "code",
   "execution_count": null,
   "metadata": {},
   "outputs": [],
   "source": [
    "# Oppgave 1\n",
    "\n",
    "from pylab import *\n",
    "\n",
    "a1 = array([1, 2, 3])\n",
    "a2 = array([9, 8, 7])\n",
    "a3 = a1 + a2\n",
    "\n",
    "print(a3)"
   ]
  },
  {
   "cell_type": "code",
   "execution_count": null,
   "metadata": {},
   "outputs": [],
   "source": [
    "# Oppgave 2\n",
    "\n",
    "from pylab import *\n",
    "\n",
    "a1 = array([1, 2, 3])\n",
    "a2 = array([9, 8, 7])\n",
    "a3 = a1 * a2\n",
    "\n",
    "print(a3)"
   ]
  },
  {
   "cell_type": "code",
   "execution_count": null,
   "metadata": {},
   "outputs": [],
   "source": [
    "# Oppgave 3\n",
    "\n",
    "\"\"\"\n",
    "Dette er ikke en programmeringsoppgave.\n",
    "\"\"\""
   ]
  },
  {
   "cell_type": "code",
   "execution_count": null,
   "metadata": {},
   "outputs": [],
   "source": [
    "# Oppgave 4\n",
    "\n",
    "from pylab import *\n",
    "\n",
    "nigangen = array(range(9, 1001, 9))\n",
    "print(nigangen)"
   ]
  },
  {
   "cell_type": "code",
   "execution_count": null,
   "metadata": {},
   "outputs": [],
   "source": [
    "# Oppgave 5\n",
    "\n",
    "from pylab import *\n",
    "\n",
    "tall = zeros(100)\n",
    "\n",
    "for i in range(1, 101):\n",
    "    tall[i-1] = i**2"
   ]
  },
  {
   "cell_type": "code",
   "execution_count": null,
   "metadata": {},
   "outputs": [],
   "source": [
    "# Oppgave 6\n",
    "\n",
    "from pylab import *\n",
    "\n",
    "\"\"\" Andreas \"\"\""
   ]
  },
  {
   "cell_type": "markdown",
   "metadata": {},
   "source": [
    "### 4.4.2 – Oppgaver om tupler"
   ]
  },
  {
   "cell_type": "code",
   "execution_count": null,
   "metadata": {},
   "outputs": [],
   "source": [
    "# Oppgave 7\n",
    "\n",
    "a = (0, 0, 0)\n",
    "b = (255, 0, 0)\n",
    "c = (0, 255, 0)\n",
    "d = (0, 0, 255)\n",
    "e = (255, 255, 255)"
   ]
  },
  {
   "cell_type": "code",
   "execution_count": null,
   "metadata": {},
   "outputs": [],
   "source": [
    "# Oppgave 8\n",
    "\n",
    "\"\"\" Andreas \"\"\""
   ]
  },
  {
   "cell_type": "markdown",
   "metadata": {},
   "source": [
    "### 4.4.3 – Oppgaver om dictionarier"
   ]
  },
  {
   "cell_type": "code",
   "execution_count": null,
   "metadata": {},
   "outputs": [],
   "source": [
    "# Oppgave 9\n",
    "\n",
    "elever = [\"Peder\", \"Elias\", \"Nora\"]\n",
    "lærere = [\"Einar\"]\n",
    "\n",
    "klasseliste = {}\n",
    "klasseliste[\"Lærer\"] = lærere[0]\n",
    "klasseliste[\"Elev 1\"] = elever[0]\n",
    "klasseliste[\"Elev 2\"] = elever[1]\n",
    "klasseliste[\"Elev 3\"] = elever[2]"
   ]
  },
  {
   "cell_type": "code",
   "execution_count": 2,
   "metadata": {},
   "outputs": [
    {
     "name": "stdout",
     "output_type": "stream",
     "text": [
      "RGB-koden for Rød er (255, 0, 0)\n",
      "RGB-koden for Grønn er (0, 255, 0)\n",
      "RGB-koden for Blå er (0, 0, 255)\n",
      "RGB-koden for Gul er (255, 255, 0)\n",
      "RGB-koden for Turkis er (0, 255, 255)\n"
     ]
    }
   ],
   "source": [
    "# Oppgave 10\n",
    "\n",
    "farger = {\"Rød\": (255, 0, 0), \"Grønn\": (0, 255,0), \"Blå\": (0, 0, 255), \"Gul\": (255, 255, 0), \"Turkis\": (0, 255,255)}\n",
    "\n",
    "for farge in farger.keys():\n",
    "    print(\"RGB-koden for\", farge, \"er\", farger[farge])"
   ]
  },
  {
   "cell_type": "code",
   "execution_count": null,
   "metadata": {},
   "outputs": [],
   "source": [
    "# Oppgave 11\n",
    "\n",
    "\"\"\" Vente \"\"\""
   ]
  }
 ],
 "metadata": {
  "kernelspec": {
   "display_name": "Python 3",
   "language": "python",
   "name": "python3"
  },
  "language_info": {
   "codemirror_mode": {
    "name": "ipython",
    "version": 3
   },
   "file_extension": ".py",
   "mimetype": "text/x-python",
   "name": "python",
   "nbconvert_exporter": "python",
   "pygments_lexer": "ipython3",
   "version": "3.8.2"
  }
 },
 "nbformat": 4,
 "nbformat_minor": 4
}
