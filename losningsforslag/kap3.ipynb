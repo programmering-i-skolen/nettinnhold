{
 "cells": [
  {
   "cell_type": "markdown",
   "metadata": {},
   "source": [
    "# Kapittel 3: Kontrollstrukturer og funksjoner"
   ]
  },
  {
   "cell_type": "markdown",
   "metadata": {},
   "source": [
    "### 2.13.1 – Løsning til oppgaver om villkår"
   ]
  },
  {
   "cell_type": "code",
   "execution_count": null,
   "metadata": {},
   "outputs": [],
   "source": [
    "# Oppgave 1\n",
    "\n",
    "a = 5\n",
    "b = 10\n",
    "\n",
    "if a > b:\n",
    "    print(\"a er større enn b\")\n",
    "elif a < b:\n",
    "    print(\"a er mindre enn b\")\n",
    "else:\n",
    "    print(\"a og b er like store\")"
   ]
  },
  {
   "cell_type": "code",
   "execution_count": null,
   "metadata": {},
   "outputs": [],
   "source": [
    "# Oppgave 2\n",
    "\n",
    "alder = int(input(\"Tast din alder: \"))\n",
    "\n",
    "if alder > 40:\n",
    "    print(\"Du er godt voksen!\")\n",
    "else:\n",
    "    print(\"Du er ung og frisk!\")"
   ]
  },
  {
   "cell_type": "code",
   "execution_count": null,
   "metadata": {},
   "outputs": [],
   "source": [
    "# Oppgave 3\n",
    "\n",
    "a = float(input(\"Tast inn første tall: \"))\n",
    "b = float(input(\"Tast inn andre tall: \"))\n",
    "operasjon = input(\"Tast regneoperasjon: \")\n",
    "\n",
    "if operasjon == \"+\":\n",
    "    print(a + b)\n",
    "elif operasjon == \"-\":\n",
    "    print(a - b)\n",
    "elif operasjon == \"*\":\n",
    "    print(a * b)\n",
    "elif operasjon == \"/\":\n",
    "    print(a / b)\n",
    "else:\n",
    "    print(\"Ukjent regneoperasjon\")"
   ]
  },
  {
   "cell_type": "code",
   "execution_count": null,
   "metadata": {},
   "outputs": [],
   "source": [
    "# Oppgave 4\n",
    "\n",
    "start = float(input(\"Tast inn startverdi: \"))\n",
    "slutt = float(input(\"Tast inn sluttverdi: \"))\n",
    "\n",
    "endring = slutt/start\n",
    "\n",
    "if endring > 1:\n",
    "    print(\"Økning på\", (1-endring)*100, \"prosent\")\n",
    "else:\n",
    "    print(\"Nedgang på\", endring*100, \"prosent\")"
   ]
  },
  {
   "cell_type": "code",
   "execution_count": null,
   "metadata": {},
   "outputs": [],
   "source": [
    "# Oppgave 5\n",
    "\n",
    "tall = int(input(\"Tast ditt tall: \"))\n",
    "\n",
    "if tall % 3 == 0:\n",
    "    print(\"3 er en faktor i tallet\")\n",
    "else:\n",
    "    print(\"3 er ikke en faktor i tallet\")"
   ]
  },
  {
   "cell_type": "code",
   "execution_count": null,
   "metadata": {},
   "outputs": [],
   "source": [
    "# Oppgave 6\n",
    "\n",
    "tall = int(input(\"Tast ditt tall: \"))\n",
    "\n",
    "if tall % 2 == 0:\n",
    "    print(\"Dette er et partall\")"
   ]
  },
  {
   "cell_type": "code",
   "execution_count": null,
   "metadata": {},
   "outputs": [],
   "source": [
    "# Oppgave 7\n",
    "\n",
    "tall = int(input(\"Tast ditt tall: \"))\n",
    "\n",
    "if tall % 2 == 0:\n",
    "    print(\"Dette er et partall\")\n",
    "else:\n",
    "    print(\"Dette er et oddetall\")"
   ]
  },
  {
   "cell_type": "code",
   "execution_count": null,
   "metadata": {},
   "outputs": [],
   "source": [
    "# Oppgave 8\n",
    "\n",
    "from pylab import *\n",
    "\n",
    "a = float(input(\"Tast inn verdi for a: \"))\n",
    "b = float(input(\"Tast inn verdi for b: \"))\n",
    "c = float(input(\"Tast inn verdi for c: \"))\n",
    "\n",
    "x1 = -b + sqrt(4*a*c) / 2*a\n",
    "x2 = -b - sqrt(4*a*c) / 2*a\n",
    "\n",
    "if x1 == x2:\n",
    "    print(\"Én reell løsning:\", x1)\n",
    "else:\n",
    "    print(\"To reelle løsninger, x1 =\", x1, \"og x2 =\", x2)\n",
    "\n",
    "# Her tar vi ikke høyde for ingen reelle løsninger"
   ]
  },
  {
   "cell_type": "code",
   "execution_count": null,
   "metadata": {},
   "outputs": [],
   "source": [
    "# Oppgave 9\n",
    "\n",
    "a1 = float(input(\"Tast a for trekant 1: \"))\n",
    "b1 = float(input(\"Tast b for trekant 1: \"))\n",
    "c1 = float(input(\"Tast c for trekant 1: \"))\n",
    "\n",
    "a2 = float(input(\"Tast a for trekant 2: \"))\n",
    "b2 = float(input(\"Tast b for trekant 2: \"))\n",
    "c2 = float(input(\"Tast c for trekant 2: \"))\n",
    "\n",
    "if a1/a2 == b1/b2 and b1/b2 == c1/c2:\n",
    "    print(\"Trekantene er formlike\")\n",
    "else:\n",
    "    print(\"Trekantene er ikke formlike\")"
   ]
  },
  {
   "cell_type": "code",
   "execution_count": null,
   "metadata": {},
   "outputs": [],
   "source": [
    "# Oppgave 10\n",
    "\n",
    "\"\"\" ANDREAS \"\"\""
   ]
  },
  {
   "cell_type": "code",
   "execution_count": null,
   "metadata": {},
   "outputs": [],
   "source": [
    "# Oppgave 11\n",
    "\n",
    "\"\"\" ANDREAS \"\"\""
   ]
  },
  {
   "cell_type": "code",
   "execution_count": null,
   "metadata": {},
   "outputs": [],
   "source": [
    "# Oppgave 12\n",
    "\n",
    "\"\"\" ANDREAS \"\"\""
   ]
  },
  {
   "cell_type": "code",
   "execution_count": null,
   "metadata": {},
   "outputs": [],
   "source": [
    "# Oppgave 13\n",
    "\n",
    "\"\"\" ANDREAS \"\"\""
   ]
  },
  {
   "cell_type": "markdown",
   "metadata": {},
   "source": [
    "### 2.13.2 – Løsning til oppgaver om løkker"
   ]
  },
  {
   "cell_type": "code",
   "execution_count": null,
   "metadata": {},
   "outputs": [],
   "source": [
    "# Oppgave 14\n",
    "\n",
    "for i in range(0, 1000):\n",
    "    print(\"Du er god til å lage løkker!\")"
   ]
  },
  {
   "cell_type": "code",
   "execution_count": null,
   "metadata": {},
   "outputs": [],
   "source": [
    "# Oppgave 15\n",
    "\n",
    "# While-løkke:\n",
    "tall = 0\n",
    "while tall < 101:\n",
    "    print(tall)\n",
    "    tall = tall + 2\n",
    "\n",
    "# For-løkke\n",
    "for i in range(0, 101, 2):\n",
    "    print(i)"
   ]
  },
  {
   "cell_type": "code",
   "execution_count": null,
   "metadata": {},
   "outputs": [],
   "source": [
    "# Oppgave 16\n",
    "\n",
    "oddetall = []\n",
    "for i in range(1, 100, 2):\n",
    "    print(i)\n",
    "    oddetall.append(i)\n",
    "    \n",
    "print(oddetall)"
   ]
  },
  {
   "cell_type": "code",
   "execution_count": null,
   "metadata": {},
   "outputs": [],
   "source": [
    "# Oppgave 17\n",
    "\n",
    "summen = 0\n",
    "for i in range(0, 1000):\n",
    "    summen = summen + i\n",
    "    \n",
    "print(\"Summen av de første 999 tallene er\", summen)"
   ]
  },
  {
   "cell_type": "code",
   "execution_count": null,
   "metadata": {},
   "outputs": [],
   "source": [
    "# Oppgave 18\n",
    "\n",
    "for i in range(1, 101):\n",
    "    print(i**2)"
   ]
  },
  {
   "cell_type": "code",
   "execution_count": null,
   "metadata": {},
   "outputs": [],
   "source": [
    "# Oppgave 19\n",
    "\n",
    "summen = 0\n",
    "tall = 1\n",
    "for i in range(0, 100):\n",
    "    summen += tall\n",
    "    tall = tall + 4\n",
    "\n",
    "print(\"Summen av de første 100 tall i følgen er\", summen)"
   ]
  },
  {
   "cell_type": "code",
   "execution_count": null,
   "metadata": {},
   "outputs": [],
   "source": [
    "# Oppgave 20\n",
    "\n",
    "start = float(input(\"Tast inn startbeløp: \"))\n",
    "tid = int(input(\"Tast inn antall tidsenheter: \"))\n",
    "rente = float(input(\"Tast inn rente i prosent: \"))\n",
    "\n",
    "rente = 1 + rente/100\n",
    "saldo = start\n",
    "\n",
    "for i in range(0, tid):\n",
    "    saldo = saldo + (saldo*rente)\n",
    "\n",
    "print(\"Saldo etter\", tid, \"tidsenheter, er\", saldo)"
   ]
  },
  {
   "cell_type": "code",
   "execution_count": 1,
   "metadata": {
    "collapsed": true,
    "jupyter": {
     "outputs_hidden": true
    }
   },
   "outputs": [
    {
     "ename": "KeyboardInterrupt",
     "evalue": "",
     "output_type": "error",
     "traceback": [
      "\u001b[0;31m---------------------------------------------------------------------------\u001b[0m",
      "\u001b[0;31mKeyboardInterrupt\u001b[0m                         Traceback (most recent call last)",
      "\u001b[0;32m~/anaconda3/lib/python3.7/site-packages/ipykernel/kernelbase.py\u001b[0m in \u001b[0;36m_input_request\u001b[0;34m(self, prompt, ident, parent, password)\u001b[0m\n\u001b[1;32m    883\u001b[0m             \u001b[0;32mtry\u001b[0m\u001b[0;34m:\u001b[0m\u001b[0;34m\u001b[0m\u001b[0;34m\u001b[0m\u001b[0m\n\u001b[0;32m--> 884\u001b[0;31m                 \u001b[0mident\u001b[0m\u001b[0;34m,\u001b[0m \u001b[0mreply\u001b[0m \u001b[0;34m=\u001b[0m \u001b[0mself\u001b[0m\u001b[0;34m.\u001b[0m\u001b[0msession\u001b[0m\u001b[0;34m.\u001b[0m\u001b[0mrecv\u001b[0m\u001b[0;34m(\u001b[0m\u001b[0mself\u001b[0m\u001b[0;34m.\u001b[0m\u001b[0mstdin_socket\u001b[0m\u001b[0;34m,\u001b[0m \u001b[0;36m0\u001b[0m\u001b[0;34m)\u001b[0m\u001b[0;34m\u001b[0m\u001b[0;34m\u001b[0m\u001b[0m\n\u001b[0m\u001b[1;32m    885\u001b[0m             \u001b[0;32mexcept\u001b[0m \u001b[0mException\u001b[0m\u001b[0;34m:\u001b[0m\u001b[0;34m\u001b[0m\u001b[0;34m\u001b[0m\u001b[0m\n",
      "\u001b[0;32m~/anaconda3/lib/python3.7/site-packages/jupyter_client/session.py\u001b[0m in \u001b[0;36mrecv\u001b[0;34m(self, socket, mode, content, copy)\u001b[0m\n\u001b[1;32m    802\u001b[0m         \u001b[0;32mtry\u001b[0m\u001b[0;34m:\u001b[0m\u001b[0;34m\u001b[0m\u001b[0;34m\u001b[0m\u001b[0m\n\u001b[0;32m--> 803\u001b[0;31m             \u001b[0mmsg_list\u001b[0m \u001b[0;34m=\u001b[0m \u001b[0msocket\u001b[0m\u001b[0;34m.\u001b[0m\u001b[0mrecv_multipart\u001b[0m\u001b[0;34m(\u001b[0m\u001b[0mmode\u001b[0m\u001b[0;34m,\u001b[0m \u001b[0mcopy\u001b[0m\u001b[0;34m=\u001b[0m\u001b[0mcopy\u001b[0m\u001b[0;34m)\u001b[0m\u001b[0;34m\u001b[0m\u001b[0;34m\u001b[0m\u001b[0m\n\u001b[0m\u001b[1;32m    804\u001b[0m         \u001b[0;32mexcept\u001b[0m \u001b[0mzmq\u001b[0m\u001b[0;34m.\u001b[0m\u001b[0mZMQError\u001b[0m \u001b[0;32mas\u001b[0m \u001b[0me\u001b[0m\u001b[0;34m:\u001b[0m\u001b[0;34m\u001b[0m\u001b[0;34m\u001b[0m\u001b[0m\n",
      "\u001b[0;32m~/anaconda3/lib/python3.7/site-packages/zmq/sugar/socket.py\u001b[0m in \u001b[0;36mrecv_multipart\u001b[0;34m(self, flags, copy, track)\u001b[0m\n\u001b[1;32m    474\u001b[0m         \"\"\"\n\u001b[0;32m--> 475\u001b[0;31m         \u001b[0mparts\u001b[0m \u001b[0;34m=\u001b[0m \u001b[0;34m[\u001b[0m\u001b[0mself\u001b[0m\u001b[0;34m.\u001b[0m\u001b[0mrecv\u001b[0m\u001b[0;34m(\u001b[0m\u001b[0mflags\u001b[0m\u001b[0;34m,\u001b[0m \u001b[0mcopy\u001b[0m\u001b[0;34m=\u001b[0m\u001b[0mcopy\u001b[0m\u001b[0;34m,\u001b[0m \u001b[0mtrack\u001b[0m\u001b[0;34m=\u001b[0m\u001b[0mtrack\u001b[0m\u001b[0;34m)\u001b[0m\u001b[0;34m]\u001b[0m\u001b[0;34m\u001b[0m\u001b[0;34m\u001b[0m\u001b[0m\n\u001b[0m\u001b[1;32m    476\u001b[0m         \u001b[0;31m# have first part already, only loop while more to receive\u001b[0m\u001b[0;34m\u001b[0m\u001b[0;34m\u001b[0m\u001b[0;34m\u001b[0m\u001b[0m\n",
      "\u001b[0;32mzmq/backend/cython/socket.pyx\u001b[0m in \u001b[0;36mzmq.backend.cython.socket.Socket.recv\u001b[0;34m()\u001b[0m\n",
      "\u001b[0;32mzmq/backend/cython/socket.pyx\u001b[0m in \u001b[0;36mzmq.backend.cython.socket.Socket.recv\u001b[0;34m()\u001b[0m\n",
      "\u001b[0;32mzmq/backend/cython/socket.pyx\u001b[0m in \u001b[0;36mzmq.backend.cython.socket._recv_copy\u001b[0;34m()\u001b[0m\n",
      "\u001b[0;32m~/anaconda3/lib/python3.7/site-packages/zmq/backend/cython/checkrc.pxd\u001b[0m in \u001b[0;36mzmq.backend.cython.checkrc._check_rc\u001b[0;34m()\u001b[0m\n",
      "\u001b[0;31mKeyboardInterrupt\u001b[0m: ",
      "\nDuring handling of the above exception, another exception occurred:\n",
      "\u001b[0;31mKeyboardInterrupt\u001b[0m                         Traceback (most recent call last)",
      "\u001b[0;32m<ipython-input-1-f50106df51ea>\u001b[0m in \u001b[0;36m<module>\u001b[0;34m\u001b[0m\n\u001b[1;32m      1\u001b[0m \u001b[0;31m# Oppgave 21\u001b[0m\u001b[0;34m\u001b[0m\u001b[0;34m\u001b[0m\u001b[0;34m\u001b[0m\u001b[0m\n\u001b[1;32m      2\u001b[0m \u001b[0;34m\u001b[0m\u001b[0m\n\u001b[0;32m----> 3\u001b[0;31m \u001b[0mN0\u001b[0m \u001b[0;34m=\u001b[0m \u001b[0mint\u001b[0m\u001b[0;34m(\u001b[0m\u001b[0minput\u001b[0m\u001b[0;34m(\u001b[0m\u001b[0;34m\"Tast antall harer ved tid=0\"\u001b[0m\u001b[0;34m)\u001b[0m\u001b[0;34m)\u001b[0m\u001b[0;34m\u001b[0m\u001b[0;34m\u001b[0m\u001b[0m\n\u001b[0m\u001b[1;32m      4\u001b[0m \u001b[0mN\u001b[0m \u001b[0;34m=\u001b[0m \u001b[0mN0\u001b[0m\u001b[0;34m\u001b[0m\u001b[0;34m\u001b[0m\u001b[0m\n\u001b[1;32m      5\u001b[0m \u001b[0mk\u001b[0m \u001b[0;34m=\u001b[0m \u001b[0;36m1.1\u001b[0m\u001b[0;34m\u001b[0m\u001b[0;34m\u001b[0m\u001b[0m\n",
      "\u001b[0;32m~/anaconda3/lib/python3.7/site-packages/ipykernel/kernelbase.py\u001b[0m in \u001b[0;36mraw_input\u001b[0;34m(self, prompt)\u001b[0m\n\u001b[1;32m    857\u001b[0m             \u001b[0mself\u001b[0m\u001b[0;34m.\u001b[0m\u001b[0m_parent_ident\u001b[0m\u001b[0;34m,\u001b[0m\u001b[0;34m\u001b[0m\u001b[0;34m\u001b[0m\u001b[0m\n\u001b[1;32m    858\u001b[0m             \u001b[0mself\u001b[0m\u001b[0;34m.\u001b[0m\u001b[0m_parent_header\u001b[0m\u001b[0;34m,\u001b[0m\u001b[0;34m\u001b[0m\u001b[0;34m\u001b[0m\u001b[0m\n\u001b[0;32m--> 859\u001b[0;31m             \u001b[0mpassword\u001b[0m\u001b[0;34m=\u001b[0m\u001b[0;32mFalse\u001b[0m\u001b[0;34m,\u001b[0m\u001b[0;34m\u001b[0m\u001b[0;34m\u001b[0m\u001b[0m\n\u001b[0m\u001b[1;32m    860\u001b[0m         )\n\u001b[1;32m    861\u001b[0m \u001b[0;34m\u001b[0m\u001b[0m\n",
      "\u001b[0;32m~/anaconda3/lib/python3.7/site-packages/ipykernel/kernelbase.py\u001b[0m in \u001b[0;36m_input_request\u001b[0;34m(self, prompt, ident, parent, password)\u001b[0m\n\u001b[1;32m    887\u001b[0m             \u001b[0;32mexcept\u001b[0m \u001b[0mKeyboardInterrupt\u001b[0m\u001b[0;34m:\u001b[0m\u001b[0;34m\u001b[0m\u001b[0;34m\u001b[0m\u001b[0m\n\u001b[1;32m    888\u001b[0m                 \u001b[0;31m# re-raise KeyboardInterrupt, to truncate traceback\u001b[0m\u001b[0;34m\u001b[0m\u001b[0;34m\u001b[0m\u001b[0;34m\u001b[0m\u001b[0m\n\u001b[0;32m--> 889\u001b[0;31m                 \u001b[0;32mraise\u001b[0m \u001b[0mKeyboardInterrupt\u001b[0m\u001b[0;34m\u001b[0m\u001b[0;34m\u001b[0m\u001b[0m\n\u001b[0m\u001b[1;32m    890\u001b[0m             \u001b[0;32melse\u001b[0m\u001b[0;34m:\u001b[0m\u001b[0;34m\u001b[0m\u001b[0;34m\u001b[0m\u001b[0m\n\u001b[1;32m    891\u001b[0m                 \u001b[0;32mbreak\u001b[0m\u001b[0;34m\u001b[0m\u001b[0;34m\u001b[0m\u001b[0m\n",
      "\u001b[0;31mKeyboardInterrupt\u001b[0m: "
     ]
    }
   ],
   "source": [
    "# Oppgave 21\n",
    "\n",
    "N0 = int(input(\"Tast antall harer ved tid=0: \"))\n",
    "N = N0\n",
    "k = 1.1\n",
    "utvikling = []\n",
    "\n",
    "for i in range(0, 10):\n",
    "    N = N * k\n",
    "    utvikling.append(N)"
   ]
  },
  {
   "cell_type": "code",
   "execution_count": null,
   "metadata": {},
   "outputs": [],
   "source": [
    "# Oppgave 22\n",
    "\n",
    "N0 = int(input(\"Tast antall harer ved tid=0: \"))\n",
    "B = int(input(\"Tast inn bæreevne i antall harer: \"))\n",
    "N = N0\n",
    "k = 1.1\n",
    "utvikling = []\n",
    "\n",
    "for i in range(0, 10):\n",
    "    N = N * k * (B - N)\n",
    "    utvikling.append(N)"
   ]
  },
  {
   "cell_type": "code",
   "execution_count": null,
   "metadata": {},
   "outputs": [],
   "source": [
    "# Oppgave 23\n",
    "\n",
    "tall = int(input(\"Tast tall som skal primtallsfaktoriseres: \"))\n",
    "faktorer = []\n",
    "\n",
    "while tall > 1:\n",
    "    while tall % i == 0:\n",
    "        faktorer.append(i)\n",
    "        tall = tall/i\n",
    "    i = i + 1\n",
    "\n",
    "print(\"Primfaktorer:\", faktorer)"
   ]
  },
  {
   "cell_type": "code",
   "execution_count": null,
   "metadata": {},
   "outputs": [],
   "source": [
    "# Oppgave 24\n",
    "\n",
    "\"\"\" Vente \"\"\""
   ]
  },
  {
   "cell_type": "code",
   "execution_count": null,
   "metadata": {},
   "outputs": [],
   "source": [
    "# Oppgave 25\n",
    "\n",
    "\"\"\" Vente \"\"\""
   ]
  },
  {
   "cell_type": "markdown",
   "metadata": {},
   "source": [
    "### 2.13.2 – Løsning til oppgaver om funksjoner"
   ]
  },
  {
   "cell_type": "code",
   "execution_count": null,
   "metadata": {},
   "outputs": [],
   "source": [
    "# Oppgave 26\n",
    "\n",
    "def hei(navn):\n",
    "    print(\"Hei,\", navn)"
   ]
  },
  {
   "cell_type": "code",
   "execution_count": null,
   "metadata": {},
   "outputs": [],
   "source": [
    "# Oppgave 27\n",
    "\n",
    "def f(x):\n",
    "    return 2*x**2 - x + 1\n",
    "\n",
    "print(f(1))\n",
    "print(f(2))\n",
    "print(f(3))"
   ]
  },
  {
   "cell_type": "code",
   "execution_count": null,
   "metadata": {},
   "outputs": [],
   "source": [
    "# Oppgave 28\n",
    "\n",
    "from pylab import *\n",
    "\n",
    "def areal(r):\n",
    "    return pi*r**2\n",
    "\n",
    "radius = float(input(\"Tast radius: \"))\n",
    "print(\"Arealet av sirkelen er\", areal(radius))"
   ]
  },
  {
   "cell_type": "code",
   "execution_count": null,
   "metadata": {},
   "outputs": [],
   "source": [
    "# Oppgave 29\n",
    "\n",
    "from pylab import *\n",
    "\n",
    "def radius(A):\n",
    "    return A/pi/2\n",
    "\n",
    "areal = float(input(\"Tast inn omkrest: \"))\n",
    "print(\"Radius i sirkelen er\", radius_sirkel(areal))"
   ]
  },
  {
   "cell_type": "code",
   "execution_count": null,
   "metadata": {},
   "outputs": [],
   "source": [
    "# Oppgave 30\n",
    "\n",
    "def f(x):\n",
    "    return x**3 - 2*x**2 - 2\n",
    "\n",
    "for i in range(0, 21):\n",
    "    print(f(i))"
   ]
  },
  {
   "cell_type": "code",
   "execution_count": null,
   "metadata": {},
   "outputs": [],
   "source": [
    "# Oppgave 31\n",
    "\n",
    "\"\"\"\n",
    "Dette er en refleksjonsoppgave som du kan løse i eget hode, eller med penn og papir.\n",
    "\"\"\""
   ]
  },
  {
   "cell_type": "code",
   "execution_count": 1,
   "metadata": {
    "scrolled": true
   },
   "outputs": [
    {
     "name": "stdout",
     "output_type": "stream",
     "text": [
      "x    f(x)\n",
      "0     -1\n",
      "1     -1\n",
      "2     -3\n",
      "3     -7\n",
      "4     -13\n",
      "5     -21\n",
      "6     -31\n",
      "7     -43\n",
      "8     -57\n",
      "9     -73\n"
     ]
    }
   ],
   "source": [
    "# Oppgave 32\n",
    "\n",
    "def f(x):\n",
    "    return x**2 - 2*x**2 + x - 1\n",
    "\n",
    "print(\"x    f(x)\")\n",
    "for i in range(0, 10):\n",
    "    print(i, \"   \", f(i))"
   ]
  },
  {
   "cell_type": "code",
   "execution_count": null,
   "metadata": {},
   "outputs": [],
   "source": [
    "# Oppgave 33\n",
    "\n",
    "\"\"\" Andreas \"\"\""
   ]
  },
  {
   "cell_type": "code",
   "execution_count": null,
   "metadata": {},
   "outputs": [],
   "source": [
    "# Oppgave 34\n",
    "\n",
    "\"\"\" Vente \"\"\""
   ]
  },
  {
   "cell_type": "code",
   "execution_count": null,
   "metadata": {},
   "outputs": [],
   "source": [
    "# Oppgave 35\n",
    "\n",
    "# (a)\n",
    "def minste_faktor(tall):\n",
    "    teller = 2\n",
    "    while tall % teller != 0:\n",
    "        teller += 1\n",
    "    return teller\n",
    "\n",
    "# (b)\n",
    "def primtallsfaktorer(tall):\n",
    "    faktorer = []\n",
    "    while tall > 1:\n",
    "        faktorer.append(minste_faktor(tall))\n",
    "        tall = tall/faktorer[-1]\n",
    "    return faktorer\n",
    "        "
   ]
  }
 ],
 "metadata": {
  "kernelspec": {
   "display_name": "Python 3",
   "language": "python",
   "name": "python3"
  },
  "language_info": {
   "codemirror_mode": {
    "name": "ipython",
    "version": 3
   },
   "file_extension": ".py",
   "mimetype": "text/x-python",
   "name": "python",
   "nbconvert_exporter": "python",
   "pygments_lexer": "ipython3",
   "version": "3.8.2"
  }
 },
 "nbformat": 4,
 "nbformat_minor": 4
}
