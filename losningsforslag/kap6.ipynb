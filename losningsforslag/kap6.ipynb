{
 "cells": [
  {
   "cell_type": "markdown",
   "metadata": {},
   "source": [
    "# Kapittel 6 : Plotting og grafikk "
   ]
  },
  {
   "cell_type": "markdown",
   "metadata": {},
   "source": [
    "### 6.4.1 – Oppgaver om plotting"
   ]
  },
  {
   "cell_type": "code",
   "execution_count": 2,
   "metadata": {},
   "outputs": [
    {
     "data": {
      "text/plain": [
       "<Figure size 640x480 with 1 Axes>"
      ]
     },
     "metadata": {},
     "output_type": "display_data"
    }
   ],
   "source": [
    "# Oppgave 1\n",
    "\n",
    "from pylab import *\n",
    "\n",
    "def f(x):\n",
    "    return x**3 - 2*x**2 + x + 3\n",
    "\n",
    "x = linspace(-2, 3, 1000)\n",
    "y = f(x)\n",
    "\n",
    "plot(x, y, label=\"f(x)\")\n",
    "grid()\n",
    "axhline(0)\n",
    "axvline(0)\n",
    "xlabel(\"x\")\n",
    "ylabel(\"f(x)\")\n",
    "legend()\n",
    "show()"
   ]
  },
  {
   "cell_type": "code",
   "execution_count": null,
   "metadata": {},
   "outputs": [],
   "source": [
    "# Oppgave 2\n",
    "\n",
    "from pylab import *\n",
    "\n",
    "def f(x):\n",
    "    return x**2 - 2\n",
    "\n",
    "def g(x):\n",
    "    return x + 1\n",
    "\n",
    "def h(x):\n",
    "    return 1/x\n",
    "\n",
    "x = linspace(-3, 3, 1000)\n",
    "y1 = f(x)\n",
    "y2 = g(x)\n",
    "y3 = h(x)\n",
    "\n",
    "plot(x, y1, label=\"f(x)\")\n",
    "plot(x, y2, label=\"g(x)\")\n",
    "plot(x, y3, label=\"h(x)\")\n",
    "grid()\n",
    "axhline(0)\n",
    "axvline(0)\n",
    "xlabel(\"x\")\n",
    "ylabel(\"y\")\n",
    "legend()\n",
    "show()"
   ]
  },
  {
   "cell_type": "code",
   "execution_count": null,
   "metadata": {},
   "outputs": [],
   "source": [
    "# Oppgave 3\n",
    "\n",
    "from pylab import *\n",
    "\n",
    "# (b)\n",
    "\n",
    "v = [30,34,32,33,30,30,29,28,45,49,50,50,50,54,50,51]\n",
    "t = [0,1,2,3,4,5,6,7,8,9,10,11,12,13,14,15]\n",
    "\n",
    "plot(t, v, label=\"v(t)\")\n",
    "grid()\n",
    "axhline(0)\n",
    "axvline(0)\n",
    "xlabel(\"x\")\n",
    "ylabel(\"v(t)\")\n",
    "legend()\n",
    "show()\n",
    "\n",
    "# (c)\n",
    "\n",
    "\"\"\"\n",
    "Les inn fila og fyll inn plottet som i oppgave b.\n",
    "\"\"\""
   ]
  },
  {
   "cell_type": "markdown",
   "metadata": {},
   "source": [
    "### 6.4.2 – Oppgaver om grafikk"
   ]
  },
  {
   "cell_type": "code",
   "execution_count": null,
   "metadata": {},
   "outputs": [],
   "source": [
    "# Oppgave 1\n",
    "\n",
    "from turtle import *\n",
    "\n",
    "forward(30)\n",
    "right(90)\n",
    "forward(40)\n",
    "right(143.3)"
   ]
  },
  {
   "cell_type": "code",
   "execution_count": null,
   "metadata": {},
   "outputs": [],
   "source": [
    "# Oppgave 2\n",
    "\n",
    "from turtle import *\n",
    "\n",
    "forward(500)\n",
    "left(180-60)\n",
    "forward(250)\n",
    "left(180-90)\n",
    "forward(433.013)"
   ]
  },
  {
   "cell_type": "code",
   "execution_count": null,
   "metadata": {},
   "outputs": [],
   "source": [
    "# Oppgave 3\n",
    "\n",
    "from turtle import *\n",
    "\n",
    "forward(200)\n",
    "left(180-90)\n",
    "forward(200)\n",
    "left(180-45)\n",
    "forward(282.84)"
   ]
  },
  {
   "cell_type": "code",
   "execution_count": null,
   "metadata": {},
   "outputs": [],
   "source": [
    "# Oppgave 4\n",
    "\n",
    "from turtle import *\n",
    "\n",
    "for j in range(2, 12):\n",
    "    for i in range(180):\n",
    "        forward(j)\n",
    "        left(2)"
   ]
  },
  {
   "cell_type": "code",
   "execution_count": null,
   "metadata": {},
   "outputs": [],
   "source": [
    "# Oppgave 5\n",
    "\n",
    "from turtle import *\n",
    "\n",
    "\n",
    "for i in range(180):\n",
    "    forward(5)\n",
    "    left(2)"
   ]
  },
  {
   "cell_type": "code",
   "execution_count": null,
   "metadata": {},
   "outputs": [],
   "source": [
    "# Oppgave 6\n",
    "\n",
    "from turtle import *\n",
    "\n",
    "def trekant(AB, AC, a, b):\n",
    "    forward(AB)\n",
    "    left(180-a)\n",
    "    forward(AC)\n",
    "    left(b)\n",
    "    goto(0, 0)"
   ]
  },
  {
   "cell_type": "code",
   "execution_count": null,
   "metadata": {},
   "outputs": [],
   "source": [
    "# Oppgave 7\n",
    "\n",
    "from turtle import *\n",
    "\n",
    "leo = Turtle()\n",
    "don = Turtle()\n",
    "\n",
    "leo.penup()\n",
    "leo.goto(100, 200)\n",
    "leo.pendown()\n",
    "\n",
    "don.penup()\n",
    "don.goto(300, 300)\n",
    "don.pendown()\n",
    "\n",
    "leo.left(180-90)\n",
    "leo.forward(100)\n",
    "don.left(180)\n",
    "don.forward(200)"
   ]
  },
  {
   "cell_type": "code",
   "execution_count": null,
   "metadata": {},
   "outputs": [],
   "source": [
    "# Oppgave 8\n",
    "\n",
    "from turtle import *\n",
    "\n",
    "left(180-60)\n",
    "forward(100)\n",
    "left(180-60)\n",
    "forward(100)\n",
    "left(180)\n",
    "forward(50)\n",
    "right(60)\n",
    "forward(50)"
   ]
  },
  {
   "cell_type": "code",
   "execution_count": null,
   "metadata": {},
   "outputs": [],
   "source": [
    "# Oppgave 9\n",
    "\n",
    "from turtle import *\n",
    "\n",
    "for i in range(4):\n",
    "    forward(100)\n",
    "    left(90)\n",
    "\n",
    "left(90)\n",
    "forward(100)\n",
    "\n",
    "right(30)\n",
    "forward(100)\n",
    "right(120)\n",
    "forward(100)\n",
    "    \n"
   ]
  }
 ],
 "metadata": {
  "kernelspec": {
   "display_name": "Python 3",
   "language": "python",
   "name": "python3"
  },
  "language_info": {
   "codemirror_mode": {
    "name": "ipython",
    "version": 3
   },
   "file_extension": ".py",
   "mimetype": "text/x-python",
   "name": "python",
   "nbconvert_exporter": "python",
   "pygments_lexer": "ipython3",
   "version": "3.8.2"
  }
 },
 "nbformat": 4,
 "nbformat_minor": 4
}
